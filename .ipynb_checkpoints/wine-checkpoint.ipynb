{
 "cells": [
  {
   "cell_type": "code",
   "execution_count": null,
   "id": "2a1e53b1",
   "metadata": {},
   "outputs": [],
   "source": []
  },
  {
   "cell_type": "code",
   "execution_count": null,
   "id": "ea52c805",
   "metadata": {},
   "outputs": [],
   "source": []
  },
  {
   "cell_type": "code",
   "execution_count": 3,
   "id": "cd0ebe23",
   "metadata": {},
   "outputs": [],
   "source": [
    "import pandas as pd\n",
    "import numpy as np\n",
    "import matplotlib as plt\n",
    "import seaborn as sns"
   ]
  },
  {
   "cell_type": "code",
   "execution_count": null,
   "id": "019f5db8",
   "metadata": {},
   "outputs": [],
   "source": []
  },
  {
   "cell_type": "code",
   "execution_count": 4,
   "id": "fa955d90",
   "metadata": {},
   "outputs": [],
   "source": [
    "df=pd.read_csv(\"winequality-red.csv\")"
   ]
  },
  {
   "cell_type": "code",
   "execution_count": 5,
   "id": "06e932eb",
   "metadata": {},
   "outputs": [
    {
     "data": {
      "text/html": [
       "<div>\n",
       "<style scoped>\n",
       "    .dataframe tbody tr th:only-of-type {\n",
       "        vertical-align: middle;\n",
       "    }\n",
       "\n",
       "    .dataframe tbody tr th {\n",
       "        vertical-align: top;\n",
       "    }\n",
       "\n",
       "    .dataframe thead th {\n",
       "        text-align: right;\n",
       "    }\n",
       "</style>\n",
       "<table border=\"1\" class=\"dataframe\">\n",
       "  <thead>\n",
       "    <tr style=\"text-align: right;\">\n",
       "      <th></th>\n",
       "      <th>fixed acidity</th>\n",
       "      <th>volatile acidity</th>\n",
       "      <th>citric acid</th>\n",
       "      <th>residual sugar</th>\n",
       "      <th>chlorides</th>\n",
       "      <th>free sulfur dioxide</th>\n",
       "      <th>total sulfur dioxide</th>\n",
       "      <th>density</th>\n",
       "      <th>pH</th>\n",
       "      <th>sulphates</th>\n",
       "      <th>alcohol</th>\n",
       "      <th>quality</th>\n",
       "    </tr>\n",
       "  </thead>\n",
       "  <tbody>\n",
       "    <tr>\n",
       "      <th>0</th>\n",
       "      <td>7.4</td>\n",
       "      <td>0.70</td>\n",
       "      <td>0.00</td>\n",
       "      <td>1.9</td>\n",
       "      <td>0.076</td>\n",
       "      <td>11.0</td>\n",
       "      <td>34.0</td>\n",
       "      <td>0.9978</td>\n",
       "      <td>3.51</td>\n",
       "      <td>0.56</td>\n",
       "      <td>9.4</td>\n",
       "      <td>5</td>\n",
       "    </tr>\n",
       "    <tr>\n",
       "      <th>1</th>\n",
       "      <td>7.8</td>\n",
       "      <td>0.88</td>\n",
       "      <td>0.00</td>\n",
       "      <td>2.6</td>\n",
       "      <td>0.098</td>\n",
       "      <td>25.0</td>\n",
       "      <td>67.0</td>\n",
       "      <td>0.9968</td>\n",
       "      <td>3.20</td>\n",
       "      <td>0.68</td>\n",
       "      <td>9.8</td>\n",
       "      <td>5</td>\n",
       "    </tr>\n",
       "    <tr>\n",
       "      <th>2</th>\n",
       "      <td>7.8</td>\n",
       "      <td>0.76</td>\n",
       "      <td>0.04</td>\n",
       "      <td>2.3</td>\n",
       "      <td>0.092</td>\n",
       "      <td>15.0</td>\n",
       "      <td>54.0</td>\n",
       "      <td>0.9970</td>\n",
       "      <td>3.26</td>\n",
       "      <td>0.65</td>\n",
       "      <td>9.8</td>\n",
       "      <td>5</td>\n",
       "    </tr>\n",
       "    <tr>\n",
       "      <th>3</th>\n",
       "      <td>11.2</td>\n",
       "      <td>0.28</td>\n",
       "      <td>0.56</td>\n",
       "      <td>1.9</td>\n",
       "      <td>0.075</td>\n",
       "      <td>17.0</td>\n",
       "      <td>60.0</td>\n",
       "      <td>0.9980</td>\n",
       "      <td>3.16</td>\n",
       "      <td>0.58</td>\n",
       "      <td>9.8</td>\n",
       "      <td>6</td>\n",
       "    </tr>\n",
       "    <tr>\n",
       "      <th>4</th>\n",
       "      <td>7.4</td>\n",
       "      <td>0.70</td>\n",
       "      <td>0.00</td>\n",
       "      <td>1.9</td>\n",
       "      <td>0.076</td>\n",
       "      <td>11.0</td>\n",
       "      <td>34.0</td>\n",
       "      <td>0.9978</td>\n",
       "      <td>3.51</td>\n",
       "      <td>0.56</td>\n",
       "      <td>9.4</td>\n",
       "      <td>5</td>\n",
       "    </tr>\n",
       "  </tbody>\n",
       "</table>\n",
       "</div>"
      ],
      "text/plain": [
       "   fixed acidity  volatile acidity  citric acid  residual sugar  chlorides  \\\n",
       "0            7.4              0.70         0.00             1.9      0.076   \n",
       "1            7.8              0.88         0.00             2.6      0.098   \n",
       "2            7.8              0.76         0.04             2.3      0.092   \n",
       "3           11.2              0.28         0.56             1.9      0.075   \n",
       "4            7.4              0.70         0.00             1.9      0.076   \n",
       "\n",
       "   free sulfur dioxide  total sulfur dioxide  density    pH  sulphates  \\\n",
       "0                 11.0                  34.0   0.9978  3.51       0.56   \n",
       "1                 25.0                  67.0   0.9968  3.20       0.68   \n",
       "2                 15.0                  54.0   0.9970  3.26       0.65   \n",
       "3                 17.0                  60.0   0.9980  3.16       0.58   \n",
       "4                 11.0                  34.0   0.9978  3.51       0.56   \n",
       "\n",
       "   alcohol  quality  \n",
       "0      9.4        5  \n",
       "1      9.8        5  \n",
       "2      9.8        5  \n",
       "3      9.8        6  \n",
       "4      9.4        5  "
      ]
     },
     "execution_count": 5,
     "metadata": {},
     "output_type": "execute_result"
    }
   ],
   "source": [
    "df.head()"
   ]
  },
  {
   "cell_type": "code",
   "execution_count": 6,
   "id": "4c7f7486",
   "metadata": {},
   "outputs": [
    {
     "data": {
      "text/html": [
       "<div>\n",
       "<style scoped>\n",
       "    .dataframe tbody tr th:only-of-type {\n",
       "        vertical-align: middle;\n",
       "    }\n",
       "\n",
       "    .dataframe tbody tr th {\n",
       "        vertical-align: top;\n",
       "    }\n",
       "\n",
       "    .dataframe thead th {\n",
       "        text-align: right;\n",
       "    }\n",
       "</style>\n",
       "<table border=\"1\" class=\"dataframe\">\n",
       "  <thead>\n",
       "    <tr style=\"text-align: right;\">\n",
       "      <th></th>\n",
       "      <th>fixed acidity</th>\n",
       "      <th>volatile acidity</th>\n",
       "      <th>citric acid</th>\n",
       "      <th>residual sugar</th>\n",
       "      <th>chlorides</th>\n",
       "      <th>free sulfur dioxide</th>\n",
       "      <th>total sulfur dioxide</th>\n",
       "      <th>density</th>\n",
       "      <th>pH</th>\n",
       "      <th>sulphates</th>\n",
       "      <th>alcohol</th>\n",
       "      <th>quality</th>\n",
       "    </tr>\n",
       "  </thead>\n",
       "  <tbody>\n",
       "    <tr>\n",
       "      <th>1594</th>\n",
       "      <td>6.2</td>\n",
       "      <td>0.600</td>\n",
       "      <td>0.08</td>\n",
       "      <td>2.0</td>\n",
       "      <td>0.090</td>\n",
       "      <td>32.0</td>\n",
       "      <td>44.0</td>\n",
       "      <td>0.99490</td>\n",
       "      <td>3.45</td>\n",
       "      <td>0.58</td>\n",
       "      <td>10.5</td>\n",
       "      <td>5</td>\n",
       "    </tr>\n",
       "    <tr>\n",
       "      <th>1595</th>\n",
       "      <td>5.9</td>\n",
       "      <td>0.550</td>\n",
       "      <td>0.10</td>\n",
       "      <td>2.2</td>\n",
       "      <td>0.062</td>\n",
       "      <td>39.0</td>\n",
       "      <td>51.0</td>\n",
       "      <td>0.99512</td>\n",
       "      <td>3.52</td>\n",
       "      <td>0.76</td>\n",
       "      <td>11.2</td>\n",
       "      <td>6</td>\n",
       "    </tr>\n",
       "    <tr>\n",
       "      <th>1596</th>\n",
       "      <td>6.3</td>\n",
       "      <td>0.510</td>\n",
       "      <td>0.13</td>\n",
       "      <td>2.3</td>\n",
       "      <td>0.076</td>\n",
       "      <td>29.0</td>\n",
       "      <td>40.0</td>\n",
       "      <td>0.99574</td>\n",
       "      <td>3.42</td>\n",
       "      <td>0.75</td>\n",
       "      <td>11.0</td>\n",
       "      <td>6</td>\n",
       "    </tr>\n",
       "    <tr>\n",
       "      <th>1597</th>\n",
       "      <td>5.9</td>\n",
       "      <td>0.645</td>\n",
       "      <td>0.12</td>\n",
       "      <td>2.0</td>\n",
       "      <td>0.075</td>\n",
       "      <td>32.0</td>\n",
       "      <td>44.0</td>\n",
       "      <td>0.99547</td>\n",
       "      <td>3.57</td>\n",
       "      <td>0.71</td>\n",
       "      <td>10.2</td>\n",
       "      <td>5</td>\n",
       "    </tr>\n",
       "    <tr>\n",
       "      <th>1598</th>\n",
       "      <td>6.0</td>\n",
       "      <td>0.310</td>\n",
       "      <td>0.47</td>\n",
       "      <td>3.6</td>\n",
       "      <td>0.067</td>\n",
       "      <td>18.0</td>\n",
       "      <td>42.0</td>\n",
       "      <td>0.99549</td>\n",
       "      <td>3.39</td>\n",
       "      <td>0.66</td>\n",
       "      <td>11.0</td>\n",
       "      <td>6</td>\n",
       "    </tr>\n",
       "  </tbody>\n",
       "</table>\n",
       "</div>"
      ],
      "text/plain": [
       "      fixed acidity  volatile acidity  citric acid  residual sugar  chlorides  \\\n",
       "1594            6.2             0.600         0.08             2.0      0.090   \n",
       "1595            5.9             0.550         0.10             2.2      0.062   \n",
       "1596            6.3             0.510         0.13             2.3      0.076   \n",
       "1597            5.9             0.645         0.12             2.0      0.075   \n",
       "1598            6.0             0.310         0.47             3.6      0.067   \n",
       "\n",
       "      free sulfur dioxide  total sulfur dioxide  density    pH  sulphates  \\\n",
       "1594                 32.0                  44.0  0.99490  3.45       0.58   \n",
       "1595                 39.0                  51.0  0.99512  3.52       0.76   \n",
       "1596                 29.0                  40.0  0.99574  3.42       0.75   \n",
       "1597                 32.0                  44.0  0.99547  3.57       0.71   \n",
       "1598                 18.0                  42.0  0.99549  3.39       0.66   \n",
       "\n",
       "      alcohol  quality  \n",
       "1594     10.5        5  \n",
       "1595     11.2        6  \n",
       "1596     11.0        6  \n",
       "1597     10.2        5  \n",
       "1598     11.0        6  "
      ]
     },
     "execution_count": 6,
     "metadata": {},
     "output_type": "execute_result"
    }
   ],
   "source": [
    "df.tail()"
   ]
  },
  {
   "cell_type": "code",
   "execution_count": 7,
   "id": "f41442de",
   "metadata": {},
   "outputs": [
    {
     "data": {
      "text/html": [
       "<div>\n",
       "<style scoped>\n",
       "    .dataframe tbody tr th:only-of-type {\n",
       "        vertical-align: middle;\n",
       "    }\n",
       "\n",
       "    .dataframe tbody tr th {\n",
       "        vertical-align: top;\n",
       "    }\n",
       "\n",
       "    .dataframe thead th {\n",
       "        text-align: right;\n",
       "    }\n",
       "</style>\n",
       "<table border=\"1\" class=\"dataframe\">\n",
       "  <thead>\n",
       "    <tr style=\"text-align: right;\">\n",
       "      <th></th>\n",
       "      <th>fixed acidity</th>\n",
       "      <th>volatile acidity</th>\n",
       "      <th>citric acid</th>\n",
       "      <th>residual sugar</th>\n",
       "      <th>chlorides</th>\n",
       "      <th>free sulfur dioxide</th>\n",
       "      <th>total sulfur dioxide</th>\n",
       "      <th>density</th>\n",
       "      <th>pH</th>\n",
       "      <th>sulphates</th>\n",
       "      <th>alcohol</th>\n",
       "      <th>quality</th>\n",
       "    </tr>\n",
       "  </thead>\n",
       "  <tbody>\n",
       "    <tr>\n",
       "      <th>575</th>\n",
       "      <td>12.3</td>\n",
       "      <td>0.27</td>\n",
       "      <td>0.49</td>\n",
       "      <td>3.1</td>\n",
       "      <td>0.079</td>\n",
       "      <td>28.0</td>\n",
       "      <td>46.0</td>\n",
       "      <td>0.99930</td>\n",
       "      <td>3.20</td>\n",
       "      <td>0.80</td>\n",
       "      <td>10.20</td>\n",
       "      <td>6</td>\n",
       "    </tr>\n",
       "    <tr>\n",
       "      <th>288</th>\n",
       "      <td>8.7</td>\n",
       "      <td>0.52</td>\n",
       "      <td>0.09</td>\n",
       "      <td>2.5</td>\n",
       "      <td>0.091</td>\n",
       "      <td>20.0</td>\n",
       "      <td>49.0</td>\n",
       "      <td>0.99760</td>\n",
       "      <td>3.34</td>\n",
       "      <td>0.86</td>\n",
       "      <td>10.60</td>\n",
       "      <td>7</td>\n",
       "    </tr>\n",
       "    <tr>\n",
       "      <th>250</th>\n",
       "      <td>10.8</td>\n",
       "      <td>0.32</td>\n",
       "      <td>0.44</td>\n",
       "      <td>1.6</td>\n",
       "      <td>0.063</td>\n",
       "      <td>16.0</td>\n",
       "      <td>37.0</td>\n",
       "      <td>0.99850</td>\n",
       "      <td>3.22</td>\n",
       "      <td>0.78</td>\n",
       "      <td>10.00</td>\n",
       "      <td>6</td>\n",
       "    </tr>\n",
       "    <tr>\n",
       "      <th>268</th>\n",
       "      <td>6.9</td>\n",
       "      <td>0.54</td>\n",
       "      <td>0.04</td>\n",
       "      <td>3.0</td>\n",
       "      <td>0.077</td>\n",
       "      <td>7.0</td>\n",
       "      <td>27.0</td>\n",
       "      <td>0.99870</td>\n",
       "      <td>3.69</td>\n",
       "      <td>0.91</td>\n",
       "      <td>9.40</td>\n",
       "      <td>6</td>\n",
       "    </tr>\n",
       "    <tr>\n",
       "      <th>1555</th>\n",
       "      <td>7.0</td>\n",
       "      <td>0.56</td>\n",
       "      <td>0.17</td>\n",
       "      <td>1.7</td>\n",
       "      <td>0.065</td>\n",
       "      <td>15.0</td>\n",
       "      <td>24.0</td>\n",
       "      <td>0.99514</td>\n",
       "      <td>3.44</td>\n",
       "      <td>0.68</td>\n",
       "      <td>10.55</td>\n",
       "      <td>7</td>\n",
       "    </tr>\n",
       "    <tr>\n",
       "      <th>939</th>\n",
       "      <td>6.2</td>\n",
       "      <td>0.46</td>\n",
       "      <td>0.17</td>\n",
       "      <td>1.6</td>\n",
       "      <td>0.073</td>\n",
       "      <td>7.0</td>\n",
       "      <td>11.0</td>\n",
       "      <td>0.99425</td>\n",
       "      <td>3.61</td>\n",
       "      <td>0.54</td>\n",
       "      <td>11.40</td>\n",
       "      <td>5</td>\n",
       "    </tr>\n",
       "    <tr>\n",
       "      <th>707</th>\n",
       "      <td>7.4</td>\n",
       "      <td>0.49</td>\n",
       "      <td>0.19</td>\n",
       "      <td>3.0</td>\n",
       "      <td>0.077</td>\n",
       "      <td>16.0</td>\n",
       "      <td>37.0</td>\n",
       "      <td>0.99660</td>\n",
       "      <td>3.37</td>\n",
       "      <td>0.51</td>\n",
       "      <td>10.50</td>\n",
       "      <td>5</td>\n",
       "    </tr>\n",
       "    <tr>\n",
       "      <th>1435</th>\n",
       "      <td>10.2</td>\n",
       "      <td>0.54</td>\n",
       "      <td>0.37</td>\n",
       "      <td>15.4</td>\n",
       "      <td>0.214</td>\n",
       "      <td>55.0</td>\n",
       "      <td>95.0</td>\n",
       "      <td>1.00369</td>\n",
       "      <td>3.18</td>\n",
       "      <td>0.77</td>\n",
       "      <td>9.00</td>\n",
       "      <td>6</td>\n",
       "    </tr>\n",
       "    <tr>\n",
       "      <th>477</th>\n",
       "      <td>10.4</td>\n",
       "      <td>0.24</td>\n",
       "      <td>0.49</td>\n",
       "      <td>1.8</td>\n",
       "      <td>0.075</td>\n",
       "      <td>6.0</td>\n",
       "      <td>20.0</td>\n",
       "      <td>0.99770</td>\n",
       "      <td>3.18</td>\n",
       "      <td>1.06</td>\n",
       "      <td>11.00</td>\n",
       "      <td>6</td>\n",
       "    </tr>\n",
       "    <tr>\n",
       "      <th>936</th>\n",
       "      <td>8.8</td>\n",
       "      <td>0.30</td>\n",
       "      <td>0.38</td>\n",
       "      <td>2.3</td>\n",
       "      <td>0.060</td>\n",
       "      <td>19.0</td>\n",
       "      <td>72.0</td>\n",
       "      <td>0.99543</td>\n",
       "      <td>3.39</td>\n",
       "      <td>0.72</td>\n",
       "      <td>11.80</td>\n",
       "      <td>6</td>\n",
       "    </tr>\n",
       "  </tbody>\n",
       "</table>\n",
       "</div>"
      ],
      "text/plain": [
       "      fixed acidity  volatile acidity  citric acid  residual sugar  chlorides  \\\n",
       "575            12.3              0.27         0.49             3.1      0.079   \n",
       "288             8.7              0.52         0.09             2.5      0.091   \n",
       "250            10.8              0.32         0.44             1.6      0.063   \n",
       "268             6.9              0.54         0.04             3.0      0.077   \n",
       "1555            7.0              0.56         0.17             1.7      0.065   \n",
       "939             6.2              0.46         0.17             1.6      0.073   \n",
       "707             7.4              0.49         0.19             3.0      0.077   \n",
       "1435           10.2              0.54         0.37            15.4      0.214   \n",
       "477            10.4              0.24         0.49             1.8      0.075   \n",
       "936             8.8              0.30         0.38             2.3      0.060   \n",
       "\n",
       "      free sulfur dioxide  total sulfur dioxide  density    pH  sulphates  \\\n",
       "575                  28.0                  46.0  0.99930  3.20       0.80   \n",
       "288                  20.0                  49.0  0.99760  3.34       0.86   \n",
       "250                  16.0                  37.0  0.99850  3.22       0.78   \n",
       "268                   7.0                  27.0  0.99870  3.69       0.91   \n",
       "1555                 15.0                  24.0  0.99514  3.44       0.68   \n",
       "939                   7.0                  11.0  0.99425  3.61       0.54   \n",
       "707                  16.0                  37.0  0.99660  3.37       0.51   \n",
       "1435                 55.0                  95.0  1.00369  3.18       0.77   \n",
       "477                   6.0                  20.0  0.99770  3.18       1.06   \n",
       "936                  19.0                  72.0  0.99543  3.39       0.72   \n",
       "\n",
       "      alcohol  quality  \n",
       "575     10.20        6  \n",
       "288     10.60        7  \n",
       "250     10.00        6  \n",
       "268      9.40        6  \n",
       "1555    10.55        7  \n",
       "939     11.40        5  \n",
       "707     10.50        5  \n",
       "1435     9.00        6  \n",
       "477     11.00        6  \n",
       "936     11.80        6  "
      ]
     },
     "execution_count": 7,
     "metadata": {},
     "output_type": "execute_result"
    }
   ],
   "source": [
    "df.sample(10)"
   ]
  },
  {
   "cell_type": "code",
   "execution_count": 8,
   "id": "5f330f61",
   "metadata": {
    "scrolled": true
   },
   "outputs": [
    {
     "data": {
      "text/html": [
       "<div>\n",
       "<style scoped>\n",
       "    .dataframe tbody tr th:only-of-type {\n",
       "        vertical-align: middle;\n",
       "    }\n",
       "\n",
       "    .dataframe tbody tr th {\n",
       "        vertical-align: top;\n",
       "    }\n",
       "\n",
       "    .dataframe thead th {\n",
       "        text-align: right;\n",
       "    }\n",
       "</style>\n",
       "<table border=\"1\" class=\"dataframe\">\n",
       "  <thead>\n",
       "    <tr style=\"text-align: right;\">\n",
       "      <th></th>\n",
       "      <th>fixed acidity</th>\n",
       "      <th>volatile acidity</th>\n",
       "      <th>citric acid</th>\n",
       "      <th>residual sugar</th>\n",
       "      <th>chlorides</th>\n",
       "      <th>free sulfur dioxide</th>\n",
       "      <th>total sulfur dioxide</th>\n",
       "      <th>density</th>\n",
       "      <th>pH</th>\n",
       "      <th>sulphates</th>\n",
       "      <th>alcohol</th>\n",
       "    </tr>\n",
       "  </thead>\n",
       "  <tbody>\n",
       "    <tr>\n",
       "      <th>0</th>\n",
       "      <td>7.4</td>\n",
       "      <td>0.7</td>\n",
       "      <td>0.0</td>\n",
       "      <td>1.9</td>\n",
       "      <td>0.076</td>\n",
       "      <td>11.0</td>\n",
       "      <td>34.0</td>\n",
       "      <td>0.9978</td>\n",
       "      <td>3.51</td>\n",
       "      <td>0.56</td>\n",
       "      <td>9.4</td>\n",
       "    </tr>\n",
       "  </tbody>\n",
       "</table>\n",
       "</div>"
      ],
      "text/plain": [
       "   fixed acidity  volatile acidity  citric acid  residual sugar  chlorides  \\\n",
       "0            7.4               0.7          0.0             1.9      0.076   \n",
       "\n",
       "   free sulfur dioxide  total sulfur dioxide  density    pH  sulphates  \\\n",
       "0                 11.0                  34.0   0.9978  3.51       0.56   \n",
       "\n",
       "   alcohol  \n",
       "0      9.4  "
      ]
     },
     "execution_count": 8,
     "metadata": {},
     "output_type": "execute_result"
    }
   ],
   "source": [
    "x=df.iloc[:,:-1]\n",
    "x.head(1)"
   ]
  },
  {
   "cell_type": "code",
   "execution_count": 9,
   "id": "184a7a97",
   "metadata": {},
   "outputs": [
    {
     "data": {
      "text/plain": [
       "0    5\n",
       "1    5\n",
       "Name: quality, dtype: int64"
      ]
     },
     "execution_count": 9,
     "metadata": {},
     "output_type": "execute_result"
    }
   ],
   "source": [
    "y=df.iloc[:,-1]\n",
    "y.head(2)"
   ]
  },
  {
   "cell_type": "code",
   "execution_count": null,
   "id": "1b6485d9",
   "metadata": {},
   "outputs": [],
   "source": []
  },
  {
   "cell_type": "code",
   "execution_count": 10,
   "id": "3b074183",
   "metadata": {},
   "outputs": [],
   "source": [
    "from sklearn.model_selection import train_test_split"
   ]
  },
  {
   "cell_type": "code",
   "execution_count": 11,
   "id": "bfaf6179",
   "metadata": {},
   "outputs": [],
   "source": [
    "x_train,x_test,y_train,y_test=train_test_split(x,y,test_size=0.30,random_state=40)"
   ]
  },
  {
   "cell_type": "code",
   "execution_count": 12,
   "id": "c044b371",
   "metadata": {},
   "outputs": [
    {
     "data": {
      "text/plain": [
       "(1119, 11)"
      ]
     },
     "execution_count": 12,
     "metadata": {},
     "output_type": "execute_result"
    }
   ],
   "source": [
    "x_train.shape"
   ]
  },
  {
   "cell_type": "code",
   "execution_count": 13,
   "id": "4464f8bf",
   "metadata": {},
   "outputs": [
    {
     "data": {
      "text/plain": [
       "(480, 11)"
      ]
     },
     "execution_count": 13,
     "metadata": {},
     "output_type": "execute_result"
    }
   ],
   "source": [
    "x_test.shape"
   ]
  },
  {
   "cell_type": "code",
   "execution_count": 14,
   "id": "8e458c25",
   "metadata": {},
   "outputs": [],
   "source": [
    "from sklearn.linear_model import LinearRegression"
   ]
  },
  {
   "cell_type": "code",
   "execution_count": 15,
   "id": "3e80b9a3",
   "metadata": {},
   "outputs": [],
   "source": [
    "lr= LinearRegression()"
   ]
  },
  {
   "cell_type": "code",
   "execution_count": 16,
   "id": "cd111e6c",
   "metadata": {},
   "outputs": [
    {
     "data": {
      "text/plain": [
       "LinearRegression()"
      ]
     },
     "execution_count": 16,
     "metadata": {},
     "output_type": "execute_result"
    }
   ],
   "source": [
    "lr"
   ]
  },
  {
   "cell_type": "code",
   "execution_count": 17,
   "id": "e5a1a56d",
   "metadata": {},
   "outputs": [
    {
     "data": {
      "text/plain": [
       "LinearRegression()"
      ]
     },
     "execution_count": 17,
     "metadata": {},
     "output_type": "execute_result"
    }
   ],
   "source": [
    "lr.fit(x_train,y_train)"
   ]
  },
  {
   "cell_type": "code",
   "execution_count": 18,
   "id": "1d6f5a04",
   "metadata": {},
   "outputs": [],
   "source": [
    "y_pred=lr.predict(x_test)"
   ]
  },
  {
   "cell_type": "code",
   "execution_count": 19,
   "id": "c3b8bb26",
   "metadata": {},
   "outputs": [
    {
     "data": {
      "text/plain": [
       "array([6.01116656, 5.12567184, 5.73007777, 6.45337924, 5.56292187,\n",
       "       5.47952656, 5.79206449, 6.42503755, 5.29238042, 5.51950406,\n",
       "       5.80403104, 5.6716423 , 6.10573525, 6.61625115, 5.26681429,\n",
       "       6.20571128, 5.85672881, 4.88795261, 5.35936835, 5.15121245,\n",
       "       5.16522798, 5.54379639, 4.98467465, 5.46695524, 6.53527068,\n",
       "       5.37633162, 5.81250272, 5.27680133, 5.85487003, 5.41046007,\n",
       "       5.33032349, 5.53510333, 5.29701015, 5.11351758, 5.12386378,\n",
       "       5.56555717, 6.66180042, 5.04014077, 5.63016215, 5.77395807,\n",
       "       5.29160715, 5.70492771, 5.16097645, 5.837696  , 6.16950071,\n",
       "       5.18698524, 5.77879118, 6.22191728, 6.61327887, 5.08016928,\n",
       "       6.42503755, 5.25360492, 4.91440818, 6.1456018 , 6.05483442,\n",
       "       5.07490162, 5.75305426, 5.66216321, 5.95965234, 5.36605602,\n",
       "       5.92938845, 5.16166748, 5.64284232, 6.30246941, 5.63040138,\n",
       "       5.45441546, 5.01485356, 5.65980596, 6.2151212 , 6.32266347,\n",
       "       5.33108801, 5.19876149, 5.21049944, 6.28733477, 6.08594326,\n",
       "       5.06134745, 5.1338188 , 5.55624414, 5.80325863, 6.46652837,\n",
       "       5.81145573, 6.13895436, 5.97855431, 5.38671867, 5.88644147,\n",
       "       5.02035636, 5.97403216, 5.09874154, 5.67063767, 5.1184592 ,\n",
       "       5.50420696, 6.17823418, 5.74651216, 5.05084059, 6.0640592 ,\n",
       "       5.64547593, 5.43321238, 6.31943902, 6.08691883, 5.12769487,\n",
       "       5.36913175, 5.75177118, 5.37015715, 5.77163701, 6.81048175,\n",
       "       6.15112574, 6.13247043, 5.64479807, 5.00293988, 5.89789667,\n",
       "       6.8977601 , 5.26919843, 5.87666861, 6.04945421, 4.97093249,\n",
       "       5.26469487, 5.58642541, 6.1673567 , 6.11596095, 5.86022983,\n",
       "       5.34056087, 5.36459106, 5.12525296, 5.34127525, 5.07873506,\n",
       "       5.80513745, 5.71644893, 5.38162496, 6.22883829, 5.66580241,\n",
       "       5.67816729, 5.56960888, 6.36618532, 5.07957536, 5.36078232,\n",
       "       5.57711399, 5.46134054, 5.59041686, 5.45204743, 5.13882177,\n",
       "       5.67581548, 5.63016215, 5.8250838 , 5.2043894 , 5.80789836,\n",
       "       6.12590341, 5.59802327, 5.83668936, 6.20501772, 6.43082101,\n",
       "       6.07172562, 5.97692909, 5.27763827, 5.4527461 , 6.15928388,\n",
       "       5.0084512 , 5.31847046, 6.55045468, 5.55764865, 5.46385135,\n",
       "       5.66515009, 5.04493809, 6.38791935, 6.28564432, 5.81250272,\n",
       "       5.02865668, 5.48608617, 5.3343683 , 6.22462723, 5.42520023,\n",
       "       4.95265542, 6.51682338, 5.82625169, 5.1370992 , 4.54412403,\n",
       "       5.47267303, 6.15077793, 5.24723745, 5.21480545, 5.39476888,\n",
       "       5.6203223 , 5.61563463, 5.41019136, 6.04471544, 5.50506746,\n",
       "       5.18272981, 5.64172515, 6.11022371, 5.77163701, 6.48510089,\n",
       "       5.89177559, 4.67742979, 5.16941217, 5.30800257, 5.10928011,\n",
       "       5.10494753, 5.36494004, 5.53840014, 5.93191211, 5.82279215,\n",
       "       5.0991615 , 5.36909917, 6.40414338, 5.69397307, 6.49278886,\n",
       "       5.79004271, 6.25983829, 5.27340726, 5.8270371 , 6.47098854,\n",
       "       6.05494701, 5.72026079, 5.55611919, 6.01870949, 5.23567773,\n",
       "       5.59236538, 6.49505871, 5.16265241, 6.33561851, 5.68021919,\n",
       "       6.26381585, 5.9212677 , 5.16478459, 5.37422804, 5.78752704,\n",
       "       5.77937228, 5.2166291 , 4.90725828, 5.09478832, 5.23526644,\n",
       "       5.14584903, 5.20921892, 6.16456637, 6.2421902 , 5.86074328,\n",
       "       5.64602145, 6.21060453, 4.96461987, 5.58728029, 5.3850321 ,\n",
       "       6.56567327, 6.09462615, 6.14671672, 5.41203308, 5.74190948,\n",
       "       5.84856684, 6.42757781, 5.72870794, 6.07446132, 5.03264064,\n",
       "       5.79013066, 5.00564935, 5.48413919, 5.22057033, 4.99673599,\n",
       "       6.41087725, 6.17393485, 5.41276971, 5.94210457, 6.43392318,\n",
       "       4.79351145, 4.90640858, 5.58791877, 5.41203308, 5.24753627,\n",
       "       5.4992595 , 5.74779576, 4.97856522, 5.0634331 , 4.81548062,\n",
       "       4.50680565, 5.22838675, 4.93748555, 6.16460358, 5.49730288,\n",
       "       6.3842678 , 6.23750665, 5.45873326, 5.10110288, 5.02458592,\n",
       "       5.21992798, 5.05782468, 5.48413919, 5.3782004 , 5.07197558,\n",
       "       4.8358755 , 5.1515634 , 5.74231514, 6.55542394, 6.32253016,\n",
       "       6.04193229, 5.97403216, 5.7748635 , 6.12919982, 5.53840014,\n",
       "       5.23089667, 5.33489946, 5.38634402, 4.97773028, 5.24882745,\n",
       "       6.19730774, 6.09179189, 6.40296123, 5.92628158, 5.11571827,\n",
       "       5.1219324 , 5.19594573, 6.56489194, 5.41956452, 5.66461421,\n",
       "       5.54169253, 5.62384005, 5.06960936, 4.97192125, 5.90968972,\n",
       "       6.24572715, 5.61928645, 5.2030101 , 6.478902  , 5.79992514,\n",
       "       6.27570719, 5.38515764, 5.26111414, 5.97638619, 5.76013531,\n",
       "       7.55807166, 6.14107136, 5.39649247, 6.05326757, 5.20378663,\n",
       "       5.56219894, 5.73332358, 6.69213799, 5.39498292, 6.10662312,\n",
       "       6.05393996, 5.48144634, 5.45205937, 5.65237304, 6.35731941,\n",
       "       6.31783248, 6.1110765 , 5.51948486, 4.91656297, 5.10756766,\n",
       "       5.45753429, 6.45783549, 4.75147602, 6.46921966, 5.50713909,\n",
       "       5.94775416, 5.15160954, 5.88784093, 5.22787723, 5.41036435,\n",
       "       5.43321238, 6.48299079, 5.64304734, 5.05299717, 6.21659737,\n",
       "       6.37057321, 6.19542717, 5.14465159, 4.85592304, 4.97856522,\n",
       "       5.78101008, 5.38324387, 5.88734592, 5.35262556, 4.99704557,\n",
       "       5.80915582, 6.23750665, 5.95400334, 5.3354794 , 5.23776397,\n",
       "       6.15405955, 5.60661232, 6.21200947, 4.99368821, 4.92140262,\n",
       "       6.43918279, 6.20692763, 6.55542394, 4.96349688, 6.19838155,\n",
       "       5.25827957, 5.37258444, 6.54772393, 5.36285226, 5.272262  ,\n",
       "       6.03747601, 5.272262  , 6.73162258, 5.51808002, 5.74651216,\n",
       "       5.71579688, 5.44208301, 5.84856684, 5.44746815, 5.02156075,\n",
       "       5.79706809, 5.88644147, 5.23368313, 5.04531795, 5.34195251,\n",
       "       5.52042935, 5.4527461 , 6.51982544, 5.67414183, 5.29617255,\n",
       "       5.31035374, 6.09618841, 6.13516977, 6.27535137, 5.28716694,\n",
       "       5.45759546, 6.0399964 , 5.16654774, 5.97638619, 6.34355981,\n",
       "       4.83767667, 6.05727866, 5.59931059, 5.62599806, 5.93705939,\n",
       "       5.06555251, 5.80704584, 5.66580241, 5.32767921, 5.54704831,\n",
       "       5.3817784 , 5.24737193, 6.71351233, 5.73079643, 6.26054257,\n",
       "       5.67169194, 5.74327718, 6.01689991, 5.45558295, 4.79464449,\n",
       "       4.96548222, 5.38634402, 5.75120648, 6.37478852, 5.4399924 ,\n",
       "       5.78554949, 6.06542309, 5.32855047, 5.80325863, 4.99641953,\n",
       "       5.14601547, 5.35034691, 5.23001179, 5.17960501, 5.77695052,\n",
       "       6.47913309, 5.69906675, 5.63579674, 6.25983829, 5.6293992 ,\n",
       "       5.17195703, 6.4048029 , 6.23750665, 5.50634811, 6.22494603,\n",
       "       5.79588735, 5.08029887, 6.5895035 , 5.67108544, 5.25707535,\n",
       "       5.88239152, 5.53721425, 6.84210959, 6.05884083, 5.26696644,\n",
       "       5.5139278 , 5.29238042, 5.98482003, 5.0546159 , 6.36477619])"
      ]
     },
     "execution_count": 19,
     "metadata": {},
     "output_type": "execute_result"
    }
   ],
   "source": [
    "y_pred"
   ]
  },
  {
   "cell_type": "code",
   "execution_count": 20,
   "id": "43dad843",
   "metadata": {},
   "outputs": [],
   "source": [
    "from sklearn import metrics"
   ]
  },
  {
   "cell_type": "code",
   "execution_count": 21,
   "id": "88932695",
   "metadata": {},
   "outputs": [
    {
     "name": "stdout",
     "output_type": "stream",
     "text": [
      "0.38900609291727306\n"
     ]
    }
   ],
   "source": [
    "print(metrics.r2_score(y_test,y_pred))"
   ]
  },
  {
   "cell_type": "code",
   "execution_count": 22,
   "id": "03a1a41c",
   "metadata": {},
   "outputs": [
    {
     "name": "stdout",
     "output_type": "stream",
     "text": [
      "0.4280537392003401\n"
     ]
    }
   ],
   "source": [
    "print(metrics.mean_squared_error(y_test,y_pred))"
   ]
  },
  {
   "cell_type": "code",
   "execution_count": 23,
   "id": "dba58cf1",
   "metadata": {},
   "outputs": [
    {
     "name": "stdout",
     "output_type": "stream",
     "text": [
      "mean_squared_error 0.4280537392003401\n",
      "mean_absolute_error 0.5062816964649817\n",
      "mean_absolute_error 0.09291038232528386\n"
     ]
    }
   ],
   "source": [
    "print(\"mean_squared_error\",metrics.mean_squared_error(y_test,y_pred))\n",
    "print(\"mean_absolute_error\",metrics.mean_absolute_error(y_test,y_pred))\n",
    "print(\"mean_absolute_error\",metrics.mean_absolute_percentage_error(y_test,y_pred))\n"
   ]
  },
  {
   "cell_type": "code",
   "execution_count": 24,
   "id": "759e6a8f",
   "metadata": {},
   "outputs": [],
   "source": [
    "import pickle\n",
    "pickle.dump(lr,open(\"model.pkl\",\"wb\"))"
   ]
  },
  {
   "cell_type": "code",
   "execution_count": 25,
   "id": "64d50292",
   "metadata": {},
   "outputs": [
    {
     "name": "stderr",
     "output_type": "stream",
     "text": [
      "C:\\Users\\Akashay\\anaconda3\\lib\\site-packages\\sklearn\\base.py:450: UserWarning: X does not have valid feature names, but LinearRegression was fitted with feature names\n",
      "  warnings.warn(\n"
     ]
    },
    {
     "data": {
      "text/plain": [
       "6.694394768708737"
      ]
     },
     "execution_count": 25,
     "metadata": {},
     "output_type": "execute_result"
    }
   ],
   "source": [
    "result=lr.predict(np.array([7.9,0.200,0.35,1.7,0.054,7.0,15.0,0.99,3.32,0.80,11.9]).reshape(1,11))\n",
    "#result=LG.predict(np.array([[6,96,32]]))\n",
    "result[0]"
   ]
  },
  {
   "cell_type": "code",
   "execution_count": null,
   "id": "a096d3dc",
   "metadata": {},
   "outputs": [],
   "source": []
  },
  {
   "cell_type": "code",
   "execution_count": null,
   "id": "500926ed",
   "metadata": {},
   "outputs": [],
   "source": []
  }
 ],
 "metadata": {
  "kernelspec": {
   "display_name": "Python 3 (ipykernel)",
   "language": "python",
   "name": "python3"
  },
  "language_info": {
   "codemirror_mode": {
    "name": "ipython",
    "version": 3
   },
   "file_extension": ".py",
   "mimetype": "text/x-python",
   "name": "python",
   "nbconvert_exporter": "python",
   "pygments_lexer": "ipython3",
   "version": "3.9.13"
  }
 },
 "nbformat": 4,
 "nbformat_minor": 5
}
